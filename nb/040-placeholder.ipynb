{
 "cells": [
  {
   "cell_type": "markdown",
   "metadata": {},
   "source": [
    "## Placeholder\n",
    "\n",
    "Tensorflow has 2 phases:\n",
    "\n",
    "1. Assemble / build a graph\n",
    "2. Use a session to execute operations in the graph\n",
    "\n",
    "This can be counter-intuitive in math. How can `c = x + y` if `x` and `y` are not previously known? The best analogy is building pipes before any water is actually pumped through the system. As a result in this analogy `x` and `y` are pipe openings that data will be fed through\n",
    "\n",
    "### Placeholder definition\n",
    "\n",
    "> Inserts a placeholder for a tensor that will be always fed.\n",
    "\n",
    "```\n",
    "tf.placeholder\n",
    "tf.placeholder_with_default\n",
    "tf.sparse_placeholder\n",
    "```\n",
    "                   \n",
    "And once you have a placeholder, you will need to feed data to the pipe, and this is done with **feed_dict**. Note, `shape=None` will take any sized input, but makes graph difficult to troubleshoot. Also, **placeholders are valid ops**"
   ]
  },
  {
   "cell_type": "code",
   "execution_count": 9,
   "metadata": {},
   "outputs": [],
   "source": [
    "import tensorflow as tf"
   ]
  },
  {
   "cell_type": "code",
   "execution_count": 10,
   "metadata": {},
   "outputs": [
    {
     "name": "stdout",
     "output_type": "stream",
     "text": [
      "\n",
      "[[1. 2. 4.]\n",
      " [5. 6. 7.]]\n"
     ]
    }
   ],
   "source": [
    "a = tf.placeholder(dtype=tf.float32,\n",
    "                   shape=[2,3],\n",
    "                   name='place_holder_1')\n",
    "\n",
    "b = tf.constant([[1.,2.,3.],[4.,5.,6.]])\n",
    "\n",
    "c = tf.add(a, b)\n",
    "\n",
    "with tf.Session() as sess:\n",
    "    # print(sess.run(c)) will give an error\n",
    "    print()\n",
    "    print(sess.run(c, feed_dict={a : [[0.,0.,1.],[1.,1.,1.]]}))"
   ]
  },
  {
   "cell_type": "markdown",
   "metadata": {},
   "source": [
    "### How do you feed multiple datapoints?"
   ]
  },
  {
   "cell_type": "code",
   "execution_count": 20,
   "metadata": {},
   "outputs": [
    {
     "name": "stdout",
     "output_type": "stream",
     "text": [
      "[11 12 13 14 15 16]\n",
      "[21 22 23 24 25 26]\n"
     ]
    }
   ],
   "source": [
    "import numpy as np\n",
    "a = tf.constant([1,2,3,4,5,6])\n",
    "b = tf.placeholder(dtype=tf.int32, shape=None)\n",
    "c = b + a\n",
    "np_array = np.array([10,20])\n",
    "\n",
    "with tf.Session() as sess:\n",
    "    for val in np_array:\n",
    "        print(sess.run(c, feed_dict={b:val}))"
   ]
  },
  {
   "cell_type": "markdown",
   "metadata": {},
   "source": [
    "### Useful for Trouble Shooting"
   ]
  },
  {
   "cell_type": "code",
   "execution_count": 23,
   "metadata": {},
   "outputs": [
    {
     "name": "stdout",
     "output_type": "stream",
     "text": [
      "45\n"
     ]
    }
   ],
   "source": [
    "# hard to track the graph\n",
    "a = tf.add(2,5)\n",
    "b = tf.multiply(a,3)\n",
    "\n",
    "with tf.Session() as sess:\n",
    "    print(sess.run(b, feed_dict={a:15}))"
   ]
  }
 ],
 "metadata": {
  "kernelspec": {
   "display_name": "Python 3",
   "language": "python",
   "name": "python3"
  },
  "language_info": {
   "codemirror_mode": {
    "name": "ipython",
    "version": 3
   },
   "file_extension": ".py",
   "mimetype": "text/x-python",
   "name": "python",
   "nbconvert_exporter": "python",
   "pygments_lexer": "ipython3",
   "version": "3.6.5"
  }
 },
 "nbformat": 4,
 "nbformat_minor": 2
}
