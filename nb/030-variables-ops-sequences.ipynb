{
 "cells": [
  {
   "cell_type": "markdown",
   "metadata": {},
   "source": [
    "## Constants, Sequences, Variables, Ops"
   ]
  },
  {
   "cell_type": "code",
   "execution_count": 1,
   "metadata": {},
   "outputs": [
    {
     "name": "stderr",
     "output_type": "stream",
     "text": [
      "/Users/timlee/anaconda2/envs/py3/lib/python3.6/site-packages/h5py/__init__.py:36: FutureWarning: Conversion of the second argument of issubdtype from `float` to `np.floating` is deprecated. In future, it will be treated as `np.float64 == np.dtype(float).type`.\n",
      "  from ._conv import register_converters as _register_converters\n"
     ]
    }
   ],
   "source": [
    "import tensorflow as tf"
   ]
  },
  {
   "cell_type": "markdown",
   "metadata": {},
   "source": [
    "## Constants\n",
    "[https://www.tensorflow.org/api_docs/python/tf/constant](https://www.tensorflow.org/api_docs/python/tf/constant)\n",
    "\n",
    "Constants are values that will never change through out your calculations. These stand fixed"
   ]
  },
  {
   "cell_type": "code",
   "execution_count": 2,
   "metadata": {},
   "outputs": [
    {
     "name": "stdout",
     "output_type": "stream",
     "text": [
      "[[ 1.  2.]\n",
      " [ 3.  4.]\n",
      " [ 5. 10.]\n",
      " [20. 30.]\n",
      " [40. 50.]]\n",
      "[[ 1.  2.  3.  4.  5.]\n",
      " [10. 20. 30. 40. 50.]]\n"
     ]
    }
   ],
   "source": [
    "# note that we are reshaping the matrix\n",
    "a = tf.constant(value=[[1,2,3,4,5],[10,20,30,40,50]],\n",
    "                dtype=tf.float32,\n",
    "                shape=[5,2],\n",
    "                name=\"tf_const\",\n",
    "                verify_shape=False\n",
    "               )\n",
    "a_reshape = tf.reshape(a, shape=[2,5])\n",
    "\n",
    "with tf.Session() as sess:\n",
    "    result = sess.run([a, a_reshape])\n",
    "    print(result[0])\n",
    "    print(result[1])"
   ]
  },
  {
   "cell_type": "markdown",
   "metadata": {},
   "source": [
    "#### Making Empty Tensors"
   ]
  },
  {
   "cell_type": "code",
   "execution_count": 3,
   "metadata": {},
   "outputs": [
    {
     "name": "stdout",
     "output_type": "stream",
     "text": [
      "[[0. 0.]\n",
      " [0. 0.]\n",
      " [0. 0.]\n",
      " [0. 0.]\n",
      " [0. 0.]]\n"
     ]
    }
   ],
   "source": [
    "b = tf.zeros_like(a)\n",
    "\n",
    "with tf.Session() as sess:\n",
    "    print(sess.run(b))"
   ]
  },
  {
   "cell_type": "markdown",
   "metadata": {},
   "source": [
    "#### Making Tensors filled with ones"
   ]
  },
  {
   "cell_type": "code",
   "execution_count": 4,
   "metadata": {},
   "outputs": [
    {
     "name": "stdout",
     "output_type": "stream",
     "text": [
      "[[1. 1.]\n",
      " [1. 1.]\n",
      " [1. 1.]\n",
      " [1. 1.]\n",
      " [1. 1.]]\n"
     ]
    }
   ],
   "source": [
    "c = tf.ones_like(a)\n",
    "\n",
    "with tf.Session() as sess:\n",
    "    print(sess.run(c))"
   ]
  },
  {
   "cell_type": "markdown",
   "metadata": {},
   "source": [
    "#### Making Tensors filled with arbitrary value"
   ]
  },
  {
   "cell_type": "code",
   "execution_count": 5,
   "metadata": {},
   "outputs": [
    {
     "name": "stdout",
     "output_type": "stream",
     "text": [
      "[[[0.5 0.5 0.5]\n",
      "  [0.5 0.5 0.5]\n",
      "  [0.5 0.5 0.5]]\n",
      "\n",
      " [[0.5 0.5 0.5]\n",
      "  [0.5 0.5 0.5]\n",
      "  [0.5 0.5 0.5]]\n",
      "\n",
      " [[0.5 0.5 0.5]\n",
      "  [0.5 0.5 0.5]\n",
      "  [0.5 0.5 0.5]]]\n"
     ]
    }
   ],
   "source": [
    "d = tf.fill(dims=[3,3,3], value=0.5)\n",
    "\n",
    "with tf.Session() as sess:\n",
    "    print(sess.run(d))"
   ]
  },
  {
   "cell_type": "markdown",
   "metadata": {},
   "source": [
    "#### How to make a range of numbers"
   ]
  },
  {
   "cell_type": "code",
   "execution_count": 6,
   "metadata": {},
   "outputs": [
    {
     "name": "stdout",
     "output_type": "stream",
     "text": [
      "linspace [ 0.  12.5 25. ]\n",
      "range [ 0.  5. 10. 15. 20.]\n"
     ]
    }
   ],
   "source": [
    "e = tf.lin_space(start=0., stop=25., num=3, name='by5')\n",
    "f = tf.range(start=0., limit=25., delta=5., dtype=tf.float32, name='range')\n",
    "\n",
    "with tf.Session() as sess:\n",
    "    print('linspace', sess.run(e))\n",
    "    print('range', sess.run(f))"
   ]
  },
  {
   "cell_type": "markdown",
   "metadata": {},
   "source": [
    "### Random Generators"
   ]
  },
  {
   "cell_type": "code",
   "execution_count": 7,
   "metadata": {},
   "outputs": [
    {
     "name": "stdout",
     "output_type": "stream",
     "text": [
      "random normal [[-0.36537609  1.4068291 ]\n",
      " [-1.0580941  -0.66352683]]\n"
     ]
    }
   ],
   "source": [
    "tf.set_random_seed(1)\n",
    "g = tf.random_normal(shape=(2,2))\n",
    "\n",
    "with tf.Session() as sess:\n",
    "\n",
    "    print('random normal', sess.run(g))"
   ]
  },
  {
   "cell_type": "markdown",
   "metadata": {},
   "source": [
    "## Key Operations\n",
    "\n",
    "| Category | Examples| \n",
    "|---------- | --------|\n",
    "|Element-wise mathematical Operations | Add, Sub, Mul, Div, Exp, Log, Greater, Less, Equal|\n",
    "|Array operations | Concat, Slice, Split, Constant, Rank, Shape, Shuffle|\n",
    "|Matrix Operations | MatMul, MatrixInverse, MatrixDeterminant,...|\n",
    "|Stateful Operations | Variable, Assign, AssignAdd|\n",
    "|NN Building Blocks | SoftMax, Sigmoid, ReLu, Convolution2D, MaxPool..|\n",
    "|Checkpointing Operations | Save, Restore|\n",
    "|Queue and synchronization operations | Enqueue, Dequeue, MutexAcquire, MutexRelease, ...|\n",
    "|Control flow operations | Merge, Switch, Enter, Leave, NextIteration|"
   ]
  },
  {
   "cell_type": "markdown",
   "metadata": {},
   "source": [
    "# Variables\n",
    "\n",
    "> A TensorFlow variable is the best way to represent shared, persistent state manipulated by your program.\n",
    "> Variables must be initialized, to serve as a best \"guess\", once initialized, these variables can be frozen, or changed throughout the graph calculation\n",
    "\n",
    "> `tf.constant` is an op\n",
    "\n",
    "> `tf.Variable` is a class with many op\n",
    "\n",
    "Why use them? Constants are great, except that they are actually stored WITHIN the graph. The larger the graph, the more constants, and the larger the size of the graph. Use constants for primitive (and simple) types. Use variables and readers for data that will require more memory\n",
    "\n",
    "### How to make variables Method 1: `tf.Variable`"
   ]
  },
  {
   "cell_type": "code",
   "execution_count": 8,
   "metadata": {},
   "outputs": [
    {
     "name": "stdout",
     "output_type": "stream",
     "text": [
      "2\n",
      "[[0 1]\n",
      " [2 3]]\n",
      "[[0. 0. 0.]\n",
      " [0. 0. 0.]\n",
      " [0. 0. 0.]\n",
      " [0. 0. 0.]\n",
      " [0. 0. 0.]\n",
      " [0. 0. 0.]\n",
      " [0. 0. 0.]]\n"
     ]
    }
   ],
   "source": [
    "scalar = tf.Variable(2, name='scalar')\n",
    "matrix = tf.Variable([[0,1],[2,3]], name='mtx')\n",
    "empty  = tf.Variable(tf.zeros([7, 3]), name='empty_mtx')\n",
    "\n",
    "with tf.Session() as sess:\n",
    "    sess.run(tf.global_variables_initializer())\n",
    "    print(sess.run(scalar))\n",
    "    print(sess.run(matrix))\n",
    "    print(sess.run(empty))"
   ]
  },
  {
   "cell_type": "markdown",
   "metadata": {},
   "source": [
    "### How to make variables Method 2: `tf.get_variable`"
   ]
  },
  {
   "cell_type": "code",
   "execution_count": 9,
   "metadata": {},
   "outputs": [
    {
     "name": "stdout",
     "output_type": "stream",
     "text": [
      "2\n",
      "[[0 1]\n",
      " [2 3]]\n",
      "[[0. 0. 0.]\n",
      " [0. 0. 0.]\n",
      " [0. 0. 0.]\n",
      " [0. 0. 0.]\n",
      " [0. 0. 0.]\n",
      " [0. 0. 0.]\n",
      " [0. 0. 0.]]\n"
     ]
    }
   ],
   "source": [
    "scalar = tf.get_variable(\"scalar1\", initializer=tf.constant(2))\n",
    "matrix = tf.get_variable(\"mtx1\", initializer=tf.constant([[0,1],[2,3]]))\n",
    "empty  = tf.get_variable('empty_mtx1', shape=(7,3), initializer=tf.zeros_initializer())\n",
    "\n",
    "with tf.Session() as sess:\n",
    "    sess.run(tf.global_variables_initializer())\n",
    "    print(sess.run(scalar))\n",
    "    print(sess.run(matrix))\n",
    "    print(sess.run(empty))"
   ]
  },
  {
   "cell_type": "markdown",
   "metadata": {},
   "source": [
    "## Variables: Initialization\n",
    "\n",
    "Note that in the last two code blocks, the variables were **initialized**\n",
    "\n",
    "The `global_variables_initializer()` initializes all variables in the graph\n",
    "```\n",
    "with tf.Session() as sess:\n",
    "    sess.run(tf.global_variables_initializer())\n",
    "    ...\n",
    "```\n",
    "\n",
    "For only a subset of variables:\n",
    "```\n",
    "with tf.Session() as sess:\n",
    "    sess.run(tf.variables_initializer([var1, var2, var3]))\n",
    "    ...\n",
    "```\n",
    "\n",
    "Or only 1 variable\n",
    "```\n",
    "with tf.Session() as sess:\n",
    "    sess.run(W.initializer)\n",
    "    ...\n",
    "```\n",
    "\n",
    "\n"
   ]
  },
  {
   "cell_type": "markdown",
   "metadata": {},
   "source": [
    "## Variables: `eval()`"
   ]
  },
  {
   "cell_type": "code",
   "execution_count": 17,
   "metadata": {},
   "outputs": [
    {
     "name": "stdout",
     "output_type": "stream",
     "text": [
      "[[-0.70387346 -0.01866959  0.06857691]\n",
      " [ 0.5431961  -0.693588    1.159248  ]\n",
      " [-0.24034725  0.65011954  0.50049955]\n",
      " [-0.87781674 -0.95692325  1.9339348 ]\n",
      " [ 0.09642299  0.8811367   0.9550244 ]]\n"
     ]
    }
   ],
   "source": [
    "weights = tf.Variable(tf.truncated_normal([5, 3]))\n",
    "with tf.Session() as sess:\n",
    "    sess.run(weights.initializer)\n",
    "    print(weights.eval())"
   ]
  },
  {
   "cell_type": "markdown",
   "metadata": {},
   "source": [
    "## Variables: `assign()`"
   ]
  },
  {
   "cell_type": "code",
   "execution_count": 25,
   "metadata": {},
   "outputs": [
    {
     "name": "stdout",
     "output_type": "stream",
     "text": [
      "1000\n"
     ]
    }
   ],
   "source": [
    "ct1 = tf.Variable(10)\n",
    "updated_ct1 = ct1.assign(1000)\n",
    "\n",
    "with tf.Session() as sess:\n",
    "    sess.run(ct1.initializer)\n",
    "    sess.run(updated_ct1)\n",
    "    print(ct1.eval())   "
   ]
  },
  {
   "cell_type": "markdown",
   "metadata": {},
   "source": [
    "### Trick Question: Whats `my var`?"
   ]
  },
  {
   "cell_type": "code",
   "execution_count": 26,
   "metadata": {},
   "outputs": [
    {
     "name": "stdout",
     "output_type": "stream",
     "text": [
      "10\n",
      "20\n",
      "40\n"
     ]
    }
   ],
   "source": [
    "my_var = tf.Variable(5)\n",
    "double_my_var = my_var.assign(2*my_var)\n",
    "\n",
    "with tf.Session() as sess:\n",
    "    sess.run(my_var.initializer)\n",
    "    sess.run(double_my_var)\n",
    "    print(my_var.eval())\n",
    "    \n",
    "    # run again\n",
    "    sess.run(double_my_var)\n",
    "    print(my_var.eval())\n",
    "    \n",
    "    # run again\n",
    "    sess.run(double_my_var)\n",
    "    print(my_var.eval())    "
   ]
  },
  {
   "cell_type": "markdown",
   "metadata": {},
   "source": [
    "### Sessions & Variables"
   ]
  },
  {
   "cell_type": "code",
   "execution_count": 29,
   "metadata": {},
   "outputs": [
    {
     "name": "stdout",
     "output_type": "stream",
     "text": [
      "25\n",
      "17\n",
      "30\n",
      "14\n"
     ]
    }
   ],
   "source": [
    "Z = tf.Variable(20)\n",
    "\n",
    "sess1 = tf.Session()\n",
    "sess2 = tf.Session()\n",
    "\n",
    "sess1.run(Z.initializer)\n",
    "sess2.run(Z.initializer)\n",
    "\n",
    "print(sess1.run(Z.assign_add(5)))\n",
    "print(sess2.run(Z.assign_sub(3)))\n",
    "\n",
    "print(sess1.run(Z.assign_add(5)))\n",
    "print(sess2.run(Z.assign_sub(3)))\n",
    "\n",
    "sess1.close()\n",
    "sess2.close()\n"
   ]
  },
  {
   "cell_type": "markdown",
   "metadata": {},
   "source": [
    "### Control Evaluation / Dependencies"
   ]
  },
  {
   "cell_type": "code",
   "execution_count": 36,
   "metadata": {},
   "outputs": [],
   "source": [
    "# a = tf.Variable(2)\n",
    "# b = tf.Variable(20)\n",
    "# c = tf.Variable(200)\n",
    "# add_c = c.assign_add(a)\n",
    "\n",
    "# g = tf.Graph()\n",
    "# with g.control_dependencies([add_c]):\n",
    "#     add_d = a.assign_add(d)\n",
    "    \n",
    "# with tf.Session(graph=g) as sess:\n",
    "#     sess.run(tf.global_variables_initializer)\n",
    "#     sess.run(add_d)"
   ]
  },
  {
   "cell_type": "code",
   "execution_count": null,
   "metadata": {},
   "outputs": [],
   "source": []
  }
 ],
 "metadata": {
  "kernelspec": {
   "display_name": "Python 3",
   "language": "python",
   "name": "python3"
  },
  "language_info": {
   "codemirror_mode": {
    "name": "ipython",
    "version": 3
   },
   "file_extension": ".py",
   "mimetype": "text/x-python",
   "name": "python",
   "nbconvert_exporter": "python",
   "pygments_lexer": "ipython3",
   "version": "3.6.5"
  }
 },
 "nbformat": 4,
 "nbformat_minor": 2
}
