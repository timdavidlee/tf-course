{
 "cells": [
  {
   "cell_type": "markdown",
   "metadata": {},
   "source": [
    "## Basic Building Blocks of ML: Tensors"
   ]
  },
  {
   "cell_type": "code",
   "execution_count": 1,
   "metadata": {},
   "outputs": [
    {
     "name": "stderr",
     "output_type": "stream",
     "text": [
      "/Users/timlee/anaconda2/envs/py3/lib/python3.6/site-packages/h5py/__init__.py:36: FutureWarning: Conversion of the second argument of issubdtype from `float` to `np.floating` is deprecated. In future, it will be treated as `np.float64 == np.dtype(float).type`.\n",
      "  from ._conv import register_converters as _register_converters\n"
     ]
    },
    {
     "name": "stdout",
     "output_type": "stream",
     "text": [
      "1.10.0\n"
     ]
    }
   ],
   "source": [
    "import tensorflow as tf\n",
    "import numpy as np\n",
    "\n",
    "print(tf.__version__)"
   ]
  },
  {
   "cell_type": "code",
   "execution_count": 2,
   "metadata": {},
   "outputs": [
    {
     "name": "stdout",
     "output_type": "stream",
     "text": [
      "[[1.0, 2.0], [3.0, 4.0]] <class 'list'>\n"
     ]
    }
   ],
   "source": [
    "m1 = [[1.0, 2.], [3., 4.]]; print(m1 , type(m1))"
   ]
  },
  {
   "cell_type": "code",
   "execution_count": 3,
   "metadata": {},
   "outputs": [
    {
     "name": "stdout",
     "output_type": "stream",
     "text": [
      "[[1. 2.]\n",
      " [3. 4.]] <class 'numpy.ndarray'>\n"
     ]
    }
   ],
   "source": [
    "m2 = np.array(m1, dtype=np.float32); print(m2, type(m2))"
   ]
  },
  {
   "cell_type": "code",
   "execution_count": 4,
   "metadata": {},
   "outputs": [
    {
     "name": "stdout",
     "output_type": "stream",
     "text": [
      "Tensor(\"Const:0\", shape=(2, 2), dtype=float32) <class 'tensorflow.python.framework.ops.Tensor'>\n"
     ]
    }
   ],
   "source": [
    "m3 = tf.constant(m1); print(m3, type(m3))"
   ]
  },
  {
   "cell_type": "markdown",
   "metadata": {},
   "source": [
    "### Playing around with TF constants"
   ]
  },
  {
   "cell_type": "code",
   "execution_count": 5,
   "metadata": {},
   "outputs": [
    {
     "name": "stdout",
     "output_type": "stream",
     "text": [
      "Tensor(\"alpha:0\", shape=(), dtype=int32)\n",
      "Tensor(\"beta:0\", shape=(1,), dtype=int32)\n",
      "Tensor(\"gamma:0\", shape=(2,), dtype=int32)\n",
      "Tensor(\"delta:0\", shape=(2, 1), dtype=int32)\n",
      "Tensor(\"epsilon:0\", shape=(2, 2), dtype=int32)\n",
      "Tensor(\"lambda:0\", shape=(2, 2, 2), dtype=int32)\n"
     ]
    }
   ],
   "source": [
    "m4 = tf.constant(55, name='alpha')\n",
    "print(m4)\n",
    "m5 = tf.constant([55], name='beta')\n",
    "print(m5)\n",
    "m6 = tf.constant([1,2], name='gamma')\n",
    "print(m6)\n",
    "m7 = tf.constant([[1],[2]], name='delta')\n",
    "print(m7)\n",
    "m8 = tf.constant([[1,2], [3,4]], name='epsilon')\n",
    "print(m8)\n",
    "m9 = tf.constant([[[1,2], [3,4]], [[5,6], [7,8]]], name='lambda')\n",
    "print(m9)"
   ]
  },
  {
   "cell_type": "markdown",
   "metadata": {},
   "source": [
    "### Data Types\n",
    "|Data type | Python Type | Description |\n",
    "| ----- | ----- | ------|\n",
    "|DT_FLOAT|tf.float32|32 bits floating point.|\n",
    "|DT_DOUBLE|tf.float64|64 bits floating point.|\n",
    "|DT_INT8|tf.int8|8 bits signed integer.|\n",
    "|DT_INT16|tf.int16|16 bits signed integer.|\n",
    "|DT_INT32|tf.int32|32 bits signed integer.|\n",
    "|DT_INT64|tf.int64|64 bits signed integer.|\n",
    "|DT_UINT8|tf.uint8|8 bits unsigned integer.|\n",
    "|DT_STRING|tf.string|Variable length byte arrays. Each element of a Tensor is a byte array.|\n",
    "|DT_BOOL|tf.bool|Boolean.|\n",
    "|DT_COMPLEX64|tf.complex64|Complex number made of two 32 bits floating points: real and imaginary parts.|\n",
    "|DT_COMPLEX128|tf.complex128|Complex number made of two 64 bits floating points: real and imaginary parts.|\n",
    "|DT_QINT8|tf.qint8|8 bits signed integer used in quantized Ops.|\n",
    "|DT_QINT32|tf.qint32|32 bits signed integer used in quantized Ops.|\n",
    "|DT_QUINT8|tf.quint8|8 bits unsigned integer used in quantized Ops.|\n"
   ]
  },
  {
   "cell_type": "markdown",
   "metadata": {},
   "source": [
    "# Graphs & Sessions\n",
    "\n",
    "## Graphs\n",
    ">TensorFlow uses a **dataflow graph** to represent your computation in terms of the dependencies between individual operations. This leads to a low-level programming model in which you first define the dataflow graph, then create a TensorFlow session to run parts of the graph across a set of local and remote devices. The graph has two main components:\n",
    "\n",
    "> **Graph structure.** The nodes and edges of the graph, indicating how individual operations are composed together\n",
    "\n",
    "> **Graph collections.** TensorFlow provides a general mechanism for storing collections of metadata in a `tf.Graph`, such as `tf.GraphKeys`, `tf.get_collection`\n",
    "\n",
    "## Sessions\n",
    "> A **`tf.Session`** object provides access to devices in the local machine, and remote devices using the distributed TensorFlow runtime. It also caches information about your tf.Graph so that you can efficiently run the same computation multiple times.\n",
    "\n",
    "As session is also where the following questions are answered:\n",
    "- on what server will the graph run?\n",
    "- will the graph use a gpu\n",
    "- cluster definition\n",
    "\n",
    "**`tf.Session.run`** is the main execution function, \n",
    "\n",
    "### Using a Session"
   ]
  },
  {
   "cell_type": "code",
   "execution_count": 6,
   "metadata": {},
   "outputs": [
    {
     "name": "stdout",
     "output_type": "stream",
     "text": [
      "Tensor(\"Add:0\", shape=(1, 2), dtype=float32)\n",
      "[[2. 4.]]\n"
     ]
    }
   ],
   "source": [
    "x = tf.constant([[1., 2.]])\n",
    "y = tf.add(x, x)\n",
    "print(y)\n",
    "\n",
    "# create a session\n",
    "with tf.Session() as sess:\n",
    "\n",
    "    # evaluate the output and save to a variable\n",
    "    result = sess.run(y)\n",
    "print(result)"
   ]
  },
  {
   "cell_type": "markdown",
   "metadata": {},
   "source": [
    "### Interactive session"
   ]
  },
  {
   "cell_type": "code",
   "execution_count": 7,
   "metadata": {},
   "outputs": [
    {
     "name": "stdout",
     "output_type": "stream",
     "text": [
      "Tensor(\"Add_1:0\", shape=(1, 2), dtype=float32)\n",
      "[[2. 4.]]\n"
     ]
    }
   ],
   "source": [
    "inter_sess = tf.InteractiveSession()\n",
    "\n",
    "x = tf.constant([[1., 2.]])\n",
    "y = tf.add(x, x)\n",
    "print(y)\n",
    "print(y.eval())\n",
    "inter_sess.close()"
   ]
  },
  {
   "cell_type": "markdown",
   "metadata": {},
   "source": [
    "### Eager Execution\n",
    "\n",
    "```python\n",
    "import tensorflow as tf\n",
    "tf.enable_eager_execution()\n",
    "x = tf.constant([[1., 2.]])\n",
    "y = tf.add(x, x)\n",
    "print(y)\n",
    "\n",
    "    tf.Tensor([[2. 4.]], shape=(1, 2), dtype=float32)\n",
    "```"
   ]
  },
  {
   "cell_type": "code",
   "execution_count": 8,
   "metadata": {},
   "outputs": [
    {
     "name": "stdout",
     "output_type": "stream",
     "text": [
      "<tensorflow.python.framework.ops.Graph object at 0x1821de0ba8>\n"
     ]
    }
   ],
   "source": [
    "grf = tf.Graph()\n",
    "print(grf)"
   ]
  },
  {
   "cell_type": "markdown",
   "metadata": {},
   "source": [
    "## How to manage multiple graphs\n",
    "\n",
    ">As noted above, TensorFlow provides a \"default graph\" that is implicitly passed to all API functions in the same context. **For many applications, a single graph is sufficient.**\n",
    "\n",
    "> A `tf.Graph` defines the namespace for tf.Operation objects: each operation in a single graph **must have a unique name.**"
   ]
  },
  {
   "cell_type": "code",
   "execution_count": 9,
   "metadata": {},
   "outputs": [
    {
     "name": "stdout",
     "output_type": "stream",
     "text": [
      "[<tf.Operation 'Const' type=Const>, <tf.Operation 'alpha' type=Const>, <tf.Operation 'beta' type=Const>, <tf.Operation 'gamma' type=Const>, <tf.Operation 'delta' type=Const>, <tf.Operation 'epsilon' type=Const>, <tf.Operation 'lambda' type=Const>, <tf.Operation 'Const_1' type=Const>, <tf.Operation 'Add' type=Add>, <tf.Operation 'Const_2' type=Const>, <tf.Operation 'Add_1' type=Add>]\n"
     ]
    }
   ],
   "source": [
    "graph_1 = tf.Graph()\n",
    "with graph_1.as_default():\n",
    "    # all these operations will go to graph 1\n",
    "    c = tf.constant(5, name=\"Node-Graph1\")\n",
    "    d = c + c\n",
    "    sess_1 = tf.Session()\n",
    "\n",
    "graph_2 = tf.Graph()\n",
    "with graph_2.as_default():\n",
    "    # all these operations will go to graph 2\n",
    "    e = tf.constant(6, name=\"Node-Graph2\")\n",
    "\n",
    "# can directly assign the graph to a\n",
    "# session\n",
    "sess_2 = tf.Session(graph=graph_2)\n",
    "\n",
    "# Print all of the operations in the default graph.\n",
    "g = tf.get_default_graph()\n",
    "print(g.get_operations())"
   ]
  },
  {
   "cell_type": "markdown",
   "metadata": {},
   "source": [
    "## Types of Values in Tensorflow\n",
    "\n",
    "- **Placeholder** - a value that is unassigned, but initialized by the session. Generally **inputs** and **outputs**\n",
    "- **Variable** - a value that can change, typically weights or parameters of your machine learning model\n",
    "- **Constant** - A value that doesn't change"
   ]
  },
  {
   "cell_type": "code",
   "execution_count": 10,
   "metadata": {},
   "outputs": [],
   "source": [
    "m10 = tf.constant([[1.,3.], [5.,7.]], name='epsilon')\n",
    "m11 = tf.constant([[10.,20.], [30.,40.]], name='epsilon')"
   ]
  },
  {
   "cell_type": "markdown",
   "metadata": {},
   "source": [
    "### Operators"
   ]
  },
  {
   "cell_type": "code",
   "execution_count": 11,
   "metadata": {},
   "outputs": [
    {
     "name": "stdout",
     "output_type": "stream",
     "text": [
      "[[11. 23.]\n",
      " [35. 47.]] <class 'numpy.ndarray'>\n",
      "[[ -9. -17.]\n",
      " [-25. -33.]] <class 'numpy.ndarray'>\n",
      "[[ 10.  60.]\n",
      " [150. 280.]] <class 'numpy.ndarray'>\n",
      "[[1.0000e+01 8.0000e+03]\n",
      " [2.4300e+07 1.6384e+11]] <class 'numpy.ndarray'>\n",
      "[[   2.7182817   20.085537 ]\n",
      " [ 148.41316   1096.6332   ]] <class 'numpy.ndarray'>\n",
      "[[1.        1.7320508]\n",
      " [2.236068  2.6457512]] <class 'numpy.ndarray'>\n",
      "[[10.         6.6666665]\n",
      " [ 6.         5.714286 ]] <class 'numpy.ndarray'>\n",
      "[[10.         6.6666665]\n",
      " [ 6.         5.714286 ]] <class 'numpy.ndarray'>\n",
      "[[10.  6.]\n",
      " [ 6.  5.]] <class 'numpy.ndarray'>\n",
      "[[0. 2.]\n",
      " [0. 5.]] <class 'numpy.ndarray'>\n"
     ]
    }
   ],
   "source": [
    "m_add = tf.add(m10, m11)\n",
    "m_subtract = tf.subtract(m10, m11)\n",
    "m_multiply = tf.multiply(m10, m11)\n",
    "m_sq = tf.pow(m11, m10)\n",
    "m_exp = tf.exp(m10)\n",
    "m_sqrt = tf.sqrt(m10)\n",
    "m_div = tf.div(m11, m10)\n",
    "m_true_div = tf.truediv(m11, m10)\n",
    "m_floordiv = tf.floordiv(m11,m10)\n",
    "m_mod = tf.mod(m11,m10)\n",
    "\n",
    "with tf.Session() as sess:\n",
    "    result = sess.run([m_add, m_subtract, m_multiply, m_sq, m_exp, m_sqrt, m_div, m_true_div, m_floordiv, m_mod])\n",
    "\n",
    "for item in result:\n",
    "    print(item, type(item))"
   ]
  },
  {
   "cell_type": "markdown",
   "metadata": {},
   "source": [
    "# Visualizing with Tensorboard"
   ]
  },
  {
   "cell_type": "code",
   "execution_count": 12,
   "metadata": {},
   "outputs": [
    {
     "name": "stdout",
     "output_type": "stream",
     "text": [
      "5\n"
     ]
    }
   ],
   "source": [
    "import tensorflow as tf\n",
    "a = tf.constant(2)\n",
    "b = tf.constant(3)\n",
    "x = tf.add(a, b)\n",
    "\n",
    "writer = tf.summary.FileWriter('./graphs', tf.get_default_graph())\n",
    "with tf.Session() as sess:\n",
    "    print(sess.run(x))\n",
    "writer.close() # close the writer when you’re done using it\n"
   ]
  },
  {
   "cell_type": "code",
   "execution_count": 13,
   "metadata": {},
   "outputs": [],
   "source": [
    "# !python3 [yourprogram].py \n",
    "# tensorboard --logdir=\"./graphs\" --port 6006\n",
    "# go to : http://localhost:6006/"
   ]
  },
  {
   "cell_type": "code",
   "execution_count": null,
   "metadata": {},
   "outputs": [],
   "source": []
  }
 ],
 "metadata": {
  "kernelspec": {
   "display_name": "Python 3",
   "language": "python",
   "name": "python3"
  },
  "language_info": {
   "codemirror_mode": {
    "name": "ipython",
    "version": 3
   },
   "file_extension": ".py",
   "mimetype": "text/x-python",
   "name": "python",
   "nbconvert_exporter": "python",
   "pygments_lexer": "ipython3",
   "version": "3.6.5"
  }
 },
 "nbformat": 4,
 "nbformat_minor": 2
}
