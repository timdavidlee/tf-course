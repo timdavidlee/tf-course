{
 "cells": [
  {
   "cell_type": "markdown",
   "metadata": {},
   "source": [
    "### Datasets\n",
    "\n",
    "https://www.tensorflow.org/guide/datasets\n",
    "\n",
    "The `tf.data` API enables you to build complex input pipelines from simple, reusable pieces. Theres' two main aspects of the `data` library:\n",
    "\n",
    "1. `Dataset` which will have both the **source** and the **transformations**\n",
    "2. `Iterator` this takes the `dataset` and acts like a generator.\n",
    "\n",
    "Note, datasets are intended to replace the earlier `Queue` and `Dequeue` APIs. https://www.tensorflow.org/api_guides/python/reading_data\n"
   ]
  },
  {
   "cell_type": "code",
   "execution_count": 32,
   "metadata": {},
   "outputs": [],
   "source": [
    "import tensorflow as tf\n",
    "import numpy as np"
   ]
  },
  {
   "cell_type": "code",
   "execution_count": 8,
   "metadata": {},
   "outputs": [
    {
     "data": {
      "text/plain": [
       "['Dataset',\n",
       " 'FixedLengthRecordDataset',\n",
       " 'Iterator',\n",
       " 'TFRecordDataset',\n",
       " 'TextLineDataset']"
      ]
     },
     "execution_count": 8,
     "metadata": {},
     "output_type": "execute_result"
    }
   ],
   "source": [
    "[m for m in dir(tf.data) if '__' not in m]"
   ]
  },
  {
   "cell_type": "markdown",
   "metadata": {},
   "source": [
    "### Dataset methods"
   ]
  },
  {
   "cell_type": "code",
   "execution_count": 9,
   "metadata": {},
   "outputs": [
    {
     "data": {
      "text/plain": [
       "['_GeneratorState',\n",
       " '_as_serialized_graph',\n",
       " '_as_variant_tensor',\n",
       " '_enumerate',\n",
       " '_tf_api_names',\n",
       " '_tf_api_names_v1',\n",
       " 'apply',\n",
       " 'batch',\n",
       " 'cache',\n",
       " 'concatenate',\n",
       " 'filter',\n",
       " 'flat_map',\n",
       " 'from_generator',\n",
       " 'from_sparse_tensor_slices',\n",
       " 'from_tensor_slices',\n",
       " 'from_tensors',\n",
       " 'interleave',\n",
       " 'list_files',\n",
       " 'make_initializable_iterator',\n",
       " 'make_one_shot_iterator',\n",
       " 'map',\n",
       " 'output_classes',\n",
       " 'output_shapes',\n",
       " 'output_types',\n",
       " 'padded_batch',\n",
       " 'prefetch',\n",
       " 'range',\n",
       " 'repeat',\n",
       " 'shard',\n",
       " 'shuffle',\n",
       " 'skip',\n",
       " 'take',\n",
       " 'zip']"
      ]
     },
     "execution_count": 9,
     "metadata": {},
     "output_type": "execute_result"
    }
   ],
   "source": [
    "[m for m in dir(tf.data.Dataset) if '__' not in m]"
   ]
  },
  {
   "cell_type": "code",
   "execution_count": 15,
   "metadata": {},
   "outputs": [
    {
     "name": "stdout",
     "output_type": "stream",
     "text": [
      "<dtype: 'float32'>\n",
      "(10,)\n",
      "(tf.float32, tf.float32)\n",
      "(TensorShape([Dimension(3)]), TensorShape([]))\n",
      "(tf.float32, (tf.float32, tf.float32))\n",
      "(TensorShape([Dimension(10)]), (TensorShape([Dimension(3)]), TensorShape([])))\n"
     ]
    }
   ],
   "source": [
    "# simple tensor slicing\n",
    "dataset1 = tf.data.Dataset.from_tensor_slices(tf.random_uniform([4, 10]))\n",
    "print(dataset1.output_types)\n",
    "print(dataset1.output_shapes)\n",
    "\n",
    "# making a feat / target generator\n",
    "feat = tf.random_uniform([10, 3])\n",
    "targ = tf.random_uniform([10])\n",
    "dataset2 = tf.data.Dataset.from_tensor_slices((feat, targ))\n",
    "print(dataset2.output_types)\n",
    "print(dataset2.output_shapes)\n",
    "\n",
    "# can combine other datasets\n",
    "dataset3 = tf.data.Dataset.zip((dataset1, dataset2))\n",
    "print(dataset3.output_types)\n",
    "print(dataset3.output_shapes)"
   ]
  },
  {
   "cell_type": "markdown",
   "metadata": {},
   "source": [
    "### Iterator\n",
    "\n",
    ">  Currently, one-shot iterators are the only type that is easily usable with an Estimator."
   ]
  },
  {
   "cell_type": "code",
   "execution_count": 22,
   "metadata": {},
   "outputs": [
    {
     "name": "stdout",
     "output_type": "stream",
     "text": [
      "0, 1, 2, 3, 4, 5, 6, 7, 8, 9, 10, 11, 12, 13, 14, 15, 16, 17, 18, 19, 20, 21, 22, 23, 24, 25, 26, 27, 28, 29, 30, 31, 32, 33, 34, 35, 36, 37, 38, 39, 40, 41, 42, 43, 44, 45, 46, 47, 48, 49, 50, 51, 52, 53, 54, 55, 56, 57, 58, 59, 60, 61, 62, 63, 64, 65, 66, 67, 68, 69, 70, 71, 72, 73, 74, 75, 76, 77, 78, 79, 80, 81, 82, 83, 84, 85, 86, 87, 88, 89, 90, 91, 92, 93, 94, 95, 96, 97, 98, 99, "
     ]
    }
   ],
   "source": [
    "dataset5 = tf.data.Dataset.range(100)\n",
    "iterator = dataset5.make_one_shot_iterator()\n",
    "next_element = iterator.get_next()\n",
    "\n",
    "with tf.Session() as sess:\n",
    "    for i in range(100):\n",
    "        value = sess.run(next_element)\n",
    "        print(value, end=', ')"
   ]
  },
  {
   "cell_type": "markdown",
   "metadata": {},
   "source": [
    "### Dataset Transformations\n",
    "\n",
    "```python\n",
    "    dataset.map(lambda x : ..)\n",
    "    dataset.flat_map(lambda x : ..)\n",
    "    dataset.filter(lambda x : ..)\n",
    "```"
   ]
  },
  {
   "cell_type": "code",
   "execution_count": 23,
   "metadata": {},
   "outputs": [
    {
     "name": "stdout",
     "output_type": "stream",
     "text": [
      "0, 2, 4, 6, 8, 10, 12, 14, 16, 18, 20, 22, 24, 26, 28, 30, 32, 34, 36, 38, 40, 42, 44, 46, 48, 50, 52, 54, 56, 58, 60, 62, 64, 66, 68, 70, 72, 74, 76, 78, 80, 82, 84, 86, 88, 90, 92, 94, 96, 98, 100, 102, 104, 106, 108, 110, 112, 114, 116, 118, 120, 122, 124, 126, 128, 130, 132, 134, 136, 138, 140, 142, 144, 146, 148, 150, 152, 154, 156, 158, 160, 162, 164, 166, 168, 170, 172, 174, 176, 178, 180, 182, 184, 186, 188, 190, 192, 194, 196, 198, "
     ]
    }
   ],
   "source": [
    "dataset6 = tf.data.Dataset.range(100)\n",
    "dataset6 = dataset6.map(lambda x : x * 2)\n",
    "iterator = dataset6.make_one_shot_iterator()\n",
    "next_element = iterator.get_next()\n",
    "\n",
    "with tf.Session() as sess:\n",
    "    for i in range(100):\n",
    "        value = sess.run(next_element)\n",
    "        print(value, end=', ')"
   ]
  },
  {
   "cell_type": "markdown",
   "metadata": {},
   "source": [
    "### Numpy -> Datasets\n",
    "https://www.tensorflow.org/guide/datasets#consuming_numpy_arrays"
   ]
  },
  {
   "cell_type": "code",
   "execution_count": 41,
   "metadata": {},
   "outputs": [
    {
     "name": "stdout",
     "output_type": "stream",
     "text": [
      "[[0 1 2]\n",
      " [3 4 5]\n",
      " [6 7 8]]\n",
      "(tf.int64, tf.int64)\n",
      "(TensorShape([Dimension(2)]), TensorShape([]))\n"
     ]
    }
   ],
   "source": [
    "array = np.array(np.split(np.arange(9),3))\n",
    "print(array)\n",
    "feat = array[:,:-1]\n",
    "labl = array[:,-1]\n",
    "\n",
    "dataset_npy = tf.data.Dataset.from_tensor_slices((feat,labl))\n",
    "print(dataset_npy.output_types)\n",
    "print(dataset_npy.output_shapes)"
   ]
  },
  {
   "cell_type": "markdown",
   "metadata": {},
   "source": [
    "### CSV -> Datasets"
   ]
  },
  {
   "cell_type": "code",
   "execution_count": 47,
   "metadata": {},
   "outputs": [
    {
     "name": "stdout",
     "output_type": "stream",
     "text": [
      "(tf.float32, tf.float32, tf.float32, tf.float32, tf.float32, tf.float32)\n",
      "(TensorShape([]), TensorShape([]), TensorShape([]), TensorShape([]), TensorShape([]), TensorShape([]))\n"
     ]
    }
   ],
   "source": [
    "import pandas as pd\n",
    "array = np.array(np.split(np.arange(36),6))\n",
    "pd.DataFrame(array).to_csv('tmp.csv')\n",
    "pd.DataFrame(array).to_csv('tmp2.csv')\n",
    "\n",
    "# assume we know htere are 6 columns\n",
    "ncols = 6\n",
    "record_defaults = [tf.float32] * ncols\n",
    "dataset_csv = tf.contrib.data.CsvDataset(['tmp.csv','tmp2.csv'], record_defaults)\n",
    "print(dataset_csv.output_types)\n",
    "print(dataset_csv.output_shapes)"
   ]
  },
  {
   "cell_type": "markdown",
   "metadata": {},
   "source": [
    "### Batching"
   ]
  },
  {
   "cell_type": "code",
   "execution_count": 50,
   "metadata": {},
   "outputs": [
    {
     "name": "stdout",
     "output_type": "stream",
     "text": [
      "[[ 0  1  2  3  4  5]\n",
      " [ 6  7  8  9 10 11]\n",
      " [12 13 14 15 16 17]\n",
      " [18 19 20 21 22 23]\n",
      " [24 25 26 27 28 29]\n",
      " [30 31 32 33 34 35]]\n",
      "(array([[ 0,  1,  2,  3,  4],\n",
      "       [ 6,  7,  8,  9, 10]]), array([ 5, 11]))\n",
      "(array([[12, 13, 14, 15, 16],\n",
      "       [18, 19, 20, 21, 22]]), array([17, 23]))\n",
      "(array([[24, 25, 26, 27, 28],\n",
      "       [30, 31, 32, 33, 34]]), array([29, 35]))\n"
     ]
    }
   ],
   "source": [
    "array = np.array(np.split(np.arange(36),6))\n",
    "print(array)\n",
    "feat = array[:,:-1]\n",
    "labl = array[:,-1]\n",
    "\n",
    "dataset_batch = tf.data.Dataset.from_tensor_slices((feat,labl))\n",
    "batched_dataset = dataset_batch.batch(2)\n",
    "\n",
    "iterator = batched_dataset.make_one_shot_iterator()\n",
    "next_element = iterator.get_next()\n",
    "\n",
    "sess = tf.Session()\n",
    "\n",
    "print(sess.run(next_element))\n",
    "print(sess.run(next_element))\n",
    "print(sess.run(next_element))\n",
    "sess.close()"
   ]
  },
  {
   "cell_type": "markdown",
   "metadata": {},
   "source": [
    "### Shuffling"
   ]
  },
  {
   "cell_type": "code",
   "execution_count": 62,
   "metadata": {},
   "outputs": [
    {
     "name": "stdout",
     "output_type": "stream",
     "text": [
      "[[ 0  1  2  3  4  5]\n",
      " [ 6  7  8  9 10 11]\n",
      " [12 13 14 15 16 17]\n",
      " [18 19 20 21 22 23]\n",
      " [24 25 26 27 28 29]\n",
      " [30 31 32 33 34 35]\n",
      " [36 37 38 39 40 41]\n",
      " [42 43 44 45 46 47]\n",
      " [48 49 50 51 52 53]\n",
      " [54 55 56 57 58 59]\n",
      " [60 61 62 63 64 65]\n",
      " [66 67 68 69 70 71]]\n",
      "(array([[24, 25, 26, 27, 28],\n",
      "       [30, 31, 32, 33, 34]]), array([29, 35]))\n",
      "(array([[36, 37, 38, 39, 40],\n",
      "       [42, 43, 44, 45, 46]]), array([41, 47]))\n",
      "(array([[12, 13, 14, 15, 16],\n",
      "       [18, 19, 20, 21, 22]]), array([17, 23]))\n"
     ]
    }
   ],
   "source": [
    "array = np.array(np.split(np.arange(72),12))\n",
    "print(array)\n",
    "feat = array[:,:-1]\n",
    "labl = array[:,-1]\n",
    "\n",
    "dataset_batch = tf.data.Dataset.from_tensor_slices((feat,labl))\n",
    "shuffle_dataset = dataset_batch.batch(2)\n",
    "\n",
    "## will shuffle now\n",
    "shuffle_dataset = shuffle_dataset.shuffle(buffer_size=6)\n",
    "\n",
    "iterator = shuffle_dataset.make_one_shot_iterator()\n",
    "next_element = iterator.get_next()\n",
    "\n",
    "sess = tf.Session()\n",
    "\n",
    "print(sess.run(next_element))\n",
    "print(sess.run(next_element))\n",
    "print(sess.run(next_element))\n",
    "sess.close()"
   ]
  },
  {
   "cell_type": "code",
   "execution_count": null,
   "metadata": {},
   "outputs": [],
   "source": []
  }
 ],
 "metadata": {
  "kernelspec": {
   "display_name": "Python 3",
   "language": "python",
   "name": "python3"
  },
  "language_info": {
   "codemirror_mode": {
    "name": "ipython",
    "version": 3
   },
   "file_extension": ".py",
   "mimetype": "text/x-python",
   "name": "python",
   "nbconvert_exporter": "python",
   "pygments_lexer": "ipython3",
   "version": "3.6.5"
  }
 },
 "nbformat": 4,
 "nbformat_minor": 2
}
