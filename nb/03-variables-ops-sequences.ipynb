{
 "cells": [
  {
   "cell_type": "markdown",
   "metadata": {},
   "source": [
    "## Constants, Sequences, Variables, Ops"
   ]
  },
  {
   "cell_type": "code",
   "execution_count": 1,
   "metadata": {},
   "outputs": [
    {
     "name": "stderr",
     "output_type": "stream",
     "text": [
      "/Users/timlee/anaconda2/envs/py3/lib/python3.6/site-packages/h5py/__init__.py:36: FutureWarning: Conversion of the second argument of issubdtype from `float` to `np.floating` is deprecated. In future, it will be treated as `np.float64 == np.dtype(float).type`.\n",
      "  from ._conv import register_converters as _register_converters\n"
     ]
    }
   ],
   "source": [
    "import tensorflow as tf"
   ]
  },
  {
   "cell_type": "code",
   "execution_count": 5,
   "metadata": {},
   "outputs": [
    {
     "name": "stdout",
     "output_type": "stream",
     "text": [
      "[[ 1.  2.]\n",
      " [ 3.  4.]\n",
      " [ 5. 10.]\n",
      " [20. 30.]\n",
      " [40. 50.]]\n",
      "[[ 1.  2.  3.  4.  5.]\n",
      " [10. 20. 30. 40. 50.]]\n"
     ]
    }
   ],
   "source": [
    "# note that we are reshaping the matrix\n",
    "a = tf.constant(value=[[1,2,3,4,5],[10,20,30,40,50]],\n",
    "                dtype=tf.float32,\n",
    "                shape=[5,2],\n",
    "                name=\"tf_const\",\n",
    "                verify_shape=False\n",
    "               )\n",
    "a_reshape = tf.reshape(a, shape=[2,5])\n",
    "\n",
    "with tf.Session() as sess:\n",
    "    result = sess.run([a, a_reshape])\n",
    "    print(result[0])\n",
    "    print(result[1])"
   ]
  },
  {
   "cell_type": "markdown",
   "metadata": {},
   "source": [
    "#### Making Empty Tensors"
   ]
  },
  {
   "cell_type": "code",
   "execution_count": 15,
   "metadata": {},
   "outputs": [
    {
     "name": "stdout",
     "output_type": "stream",
     "text": [
      "[[0. 0.]\n",
      " [0. 0.]\n",
      " [0. 0.]\n",
      " [0. 0.]\n",
      " [0. 0.]]\n"
     ]
    }
   ],
   "source": [
    "b = tf.zeros_like(a)\n",
    "\n",
    "with tf.Session() as sess:\n",
    "    print(sess.run(b))"
   ]
  },
  {
   "cell_type": "markdown",
   "metadata": {},
   "source": [
    "#### Making Tensors filled with ones"
   ]
  },
  {
   "cell_type": "code",
   "execution_count": 7,
   "metadata": {},
   "outputs": [
    {
     "name": "stdout",
     "output_type": "stream",
     "text": [
      "[[1. 1.]\n",
      " [1. 1.]\n",
      " [1. 1.]\n",
      " [1. 1.]\n",
      " [1. 1.]]\n"
     ]
    }
   ],
   "source": [
    "c = tf.ones_like(a)\n",
    "\n",
    "with tf.Session() as sess:\n",
    "    print(sess.run(c))"
   ]
  },
  {
   "cell_type": "markdown",
   "metadata": {},
   "source": [
    "#### Making Tensors filled with arbitrary value"
   ]
  },
  {
   "cell_type": "code",
   "execution_count": 9,
   "metadata": {},
   "outputs": [
    {
     "name": "stdout",
     "output_type": "stream",
     "text": [
      "[[[0.5 0.5 0.5]\n",
      "  [0.5 0.5 0.5]\n",
      "  [0.5 0.5 0.5]]\n",
      "\n",
      " [[0.5 0.5 0.5]\n",
      "  [0.5 0.5 0.5]\n",
      "  [0.5 0.5 0.5]]\n",
      "\n",
      " [[0.5 0.5 0.5]\n",
      "  [0.5 0.5 0.5]\n",
      "  [0.5 0.5 0.5]]]\n"
     ]
    }
   ],
   "source": [
    "d = tf.fill(dims=[3,3,3], value=0.5)\n",
    "\n",
    "with tf.Session() as sess:\n",
    "    print(sess.run(d))"
   ]
  },
  {
   "cell_type": "markdown",
   "metadata": {},
   "source": [
    "#### How to make a range of numbers"
   ]
  },
  {
   "cell_type": "code",
   "execution_count": 14,
   "metadata": {},
   "outputs": [
    {
     "name": "stdout",
     "output_type": "stream",
     "text": [
      "linspace [ 0.  12.5 25. ]\n",
      "range [ 0.  5. 10. 15. 20.]\n"
     ]
    }
   ],
   "source": [
    "e = tf.lin_space(start=0., stop=25., num=3, name='by5')\n",
    "f = tf.range(start=0., limit=25., delta=5., dtype=tf.float32, name='range')\n",
    "\n",
    "with tf.Session() as sess:\n",
    "    print('linspace', sess.run(e))\n",
    "    print('range', sess.run(f))"
   ]
  },
  {
   "cell_type": "code",
   "execution_count": null,
   "metadata": {},
   "outputs": [],
   "source": []
  }
 ],
 "metadata": {
  "kernelspec": {
   "display_name": "Python 3",
   "language": "python",
   "name": "python3"
  },
  "language_info": {
   "codemirror_mode": {
    "name": "ipython",
    "version": 3
   },
   "file_extension": ".py",
   "mimetype": "text/x-python",
   "name": "python",
   "nbconvert_exporter": "python",
   "pygments_lexer": "ipython3",
   "version": "3.6.5"
  }
 },
 "nbformat": 4,
 "nbformat_minor": 2
}
