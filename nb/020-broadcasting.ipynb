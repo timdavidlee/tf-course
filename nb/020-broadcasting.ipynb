{
 "cells": [
  {
   "cell_type": "markdown",
   "metadata": {},
   "source": [
    "## Broadcasting in Tensorflow"
   ]
  },
  {
   "cell_type": "code",
   "execution_count": 1,
   "metadata": {},
   "outputs": [
    {
     "name": "stderr",
     "output_type": "stream",
     "text": [
      "/Users/timlee/anaconda2/envs/py3/lib/python3.6/site-packages/h5py/__init__.py:36: FutureWarning: Conversion of the second argument of issubdtype from `float` to `np.floating` is deprecated. In future, it will be treated as `np.float64 == np.dtype(float).type`.\n",
      "  from ._conv import register_converters as _register_converters\n"
     ]
    }
   ],
   "source": [
    "import tensorflow as tf"
   ]
  },
  {
   "cell_type": "markdown",
   "metadata": {},
   "source": [
    "### Addition"
   ]
  },
  {
   "cell_type": "code",
   "execution_count": 6,
   "metadata": {},
   "outputs": [
    {
     "name": "stdout",
     "output_type": "stream",
     "text": [
      "8\n"
     ]
    }
   ],
   "source": [
    "a = tf.constant(3, name='a')\n",
    "b = tf.constant(5, name='b')\n",
    "add_const = a + b\n",
    "\n",
    "with tf.Session() as sess:\n",
    "    print(sess.run(add_const))"
   ]
  },
  {
   "cell_type": "code",
   "execution_count": 7,
   "metadata": {},
   "outputs": [
    {
     "name": "stdout",
     "output_type": "stream",
     "text": [
      "[6 7 8]\n"
     ]
    }
   ],
   "source": [
    "a = tf.constant([1,2,3], name='a')\n",
    "b = tf.constant(5, name='b')\n",
    "const2tensor = a + b\n",
    "\n",
    "with tf.Session() as sess:\n",
    "    print(sess.run(const2tensor))"
   ]
  },
  {
   "cell_type": "code",
   "execution_count": 8,
   "metadata": {},
   "outputs": [
    {
     "name": "stdout",
     "output_type": "stream",
     "text": [
      "[[2 4 6]\n",
      " [5 7 9]]\n"
     ]
    }
   ],
   "source": [
    "a = tf.constant([[1,2,3],[4,5,6]], name='a')\n",
    "b = tf.constant([1,2,3], name='b')\n",
    "tensor_add_tensor = a + b\n",
    "\n",
    "with tf.Session() as sess:\n",
    "    print(sess.run(tensor_add_tensor))"
   ]
  },
  {
   "cell_type": "markdown",
   "metadata": {},
   "source": [
    "### Multiplication"
   ]
  },
  {
   "cell_type": "code",
   "execution_count": 10,
   "metadata": {},
   "outputs": [
    {
     "name": "stdout",
     "output_type": "stream",
     "text": [
      "15\n"
     ]
    }
   ],
   "source": [
    "a = tf.constant(3, name='a')\n",
    "b = tf.constant(5, name='b')\n",
    "add_const = a * b\n",
    "\n",
    "with tf.Session() as sess:\n",
    "    print(sess.run(add_const))"
   ]
  },
  {
   "cell_type": "code",
   "execution_count": 33,
   "metadata": {},
   "outputs": [
    {
     "name": "stdout",
     "output_type": "stream",
     "text": [
      "[ 5 10 15]\n"
     ]
    }
   ],
   "source": [
    "a = tf.constant([1,2,3], name='a')\n",
    "b = tf.constant(5, name='b')\n",
    "const2tensor = tf.multiply(a, b)\n",
    "\n",
    "with tf.Session() as sess:\n",
    "    print(sess.run(const2tensor))"
   ]
  },
  {
   "cell_type": "code",
   "execution_count": 34,
   "metadata": {},
   "outputs": [
    {
     "name": "stdout",
     "output_type": "stream",
     "text": [
      "[[ 1  4  9]\n",
      " [ 4 10 18]]\n"
     ]
    }
   ],
   "source": [
    "a = tf.constant([[1,2,3],[4,5,6]], name='a')\n",
    "b = tf.constant([1,2,3], name='b')\n",
    "tensor_add_tensor = tf.multiply(a, b)\n",
    "\n",
    "with tf.Session() as sess:\n",
    "    print(sess.run(tensor_add_tensor))"
   ]
  },
  {
   "cell_type": "markdown",
   "metadata": {},
   "source": [
    "### Most trouble happens with 1-D lists"
   ]
  },
  {
   "cell_type": "code",
   "execution_count": 35,
   "metadata": {},
   "outputs": [
    {
     "name": "stdout",
     "output_type": "stream",
     "text": [
      "Tensor(\"alpha_2:0\", shape=(), dtype=int32)\n",
      "Tensor(\"beta_2:0\", shape=(1,), dtype=int32)\n",
      "Tensor(\"gamma_2:0\", shape=(2,), dtype=int32)\n",
      "Tensor(\"delta_3:0\", shape=(2, 1), dtype=int32)\n",
      "Tensor(\"delta_4:0\", shape=(1, 2), dtype=int32)\n"
     ]
    }
   ],
   "source": [
    "m4 = tf.constant(55, name='alpha')\n",
    "print(m4)\n",
    "m5 = tf.constant([55], name='beta')\n",
    "print(m5)\n",
    "m6 = tf.constant([1,2], name='gamma')\n",
    "print(m6)\n",
    "m7 = tf.constant([[1],[2]], name='delta')\n",
    "print(m7)\n",
    "m8 = tf.constant([[1,2]], name='delta')\n",
    "print(m8)"
   ]
  },
  {
   "cell_type": "code",
   "execution_count": 39,
   "metadata": {},
   "outputs": [
    {
     "name": "stdout",
     "output_type": "stream",
     "text": [
      "Tensor(\"gamma_2:0\", shape=(2,), dtype=int32)\n",
      "[1 2]\n",
      "[[1]\n",
      " [2]]\n"
     ]
    }
   ],
   "source": [
    "m9 = tf.reshape(m6, shape=(-1,1))\n",
    "print(m6)\n",
    "with tf.Session() as sess:\n",
    "    print(m6.eval())\n",
    "    print(sess.run(m9))"
   ]
  }
 ],
 "metadata": {
  "kernelspec": {
   "display_name": "Python 3",
   "language": "python",
   "name": "python3"
  },
  "language_info": {
   "codemirror_mode": {
    "name": "ipython",
    "version": 3
   },
   "file_extension": ".py",
   "mimetype": "text/x-python",
   "name": "python",
   "nbconvert_exporter": "python",
   "pygments_lexer": "ipython3",
   "version": "3.6.5"
  }
 },
 "nbformat": 4,
 "nbformat_minor": 2
}
